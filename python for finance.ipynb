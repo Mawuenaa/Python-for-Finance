{
 "cells": [
  {
   "cell_type": "markdown",
   "id": "d3e03cac",
   "metadata": {},
   "source": [
    "# Entreprify Solutions"
   ]
  },
  {
   "cell_type": "markdown",
   "id": "9c074d42",
   "metadata": {},
   "source": [
    "## 1. Revenue and Expense Analysis"
   ]
  },
  {
   "cell_type": "code",
   "execution_count": 1,
   "id": "350c26bb",
   "metadata": {},
   "outputs": [
    {
     "name": "stdout",
     "output_type": "stream",
     "text": [
      "Total revenue for the year: $150000\n",
      "Cost of goods sold: $90000\n",
      "Operational expenses: $30000\n"
     ]
    }
   ],
   "source": [
    "# Creating variables for Revenue and expense details to receive user inpit\n",
    "total_revenue = int(input(f\"Total revenue for the year: $\"))\n",
    "COGS = int(input(f\"Cost of goods sold: $\"))\n",
    "operational_expenses = int(input(f\"Operational expenses: $\"))"
   ]
  },
  {
   "cell_type": "markdown",
   "id": "468ba242",
   "metadata": {},
   "source": [
    "### *Gross Profit*"
   ]
  },
  {
   "cell_type": "code",
   "execution_count": 2,
   "id": "09fd8335",
   "metadata": {},
   "outputs": [],
   "source": [
    "# Calculate Gross profit\n",
    "gross_profit = total_revenue - COGS"
   ]
  },
  {
   "cell_type": "code",
   "execution_count": 3,
   "id": "c8211b7a",
   "metadata": {},
   "outputs": [
    {
     "name": "stdout",
     "output_type": "stream",
     "text": [
      "The Gross Profit for Entreprify for the recently ended fiscal year is $60000\n"
     ]
    }
   ],
   "source": [
    "# Output the result\n",
    "print(f\"The Gross Profit for Entreprify for the recently ended fiscal year is ${gross_profit}\")"
   ]
  },
  {
   "cell_type": "markdown",
   "id": "5c3bdcfd",
   "metadata": {},
   "source": [
    "### *Net Income*"
   ]
  },
  {
   "cell_type": "code",
   "execution_count": 4,
   "id": "d69d3948",
   "metadata": {},
   "outputs": [],
   "source": [
    "# Calculate Net income\n",
    "net_income = gross_profit - operational_expenses"
   ]
  },
  {
   "cell_type": "code",
   "execution_count": 5,
   "id": "4733579d",
   "metadata": {},
   "outputs": [
    {
     "name": "stdout",
     "output_type": "stream",
     "text": [
      "The Net Income for Entreprify for the recently ended fiscal year is $30000\n"
     ]
    }
   ],
   "source": [
    "# Output the result\n",
    "print(f\"The Net Income for Entreprify for the recently ended fiscal year is ${net_income}\")"
   ]
  },
  {
   "cell_type": "markdown",
   "id": "35845340",
   "metadata": {},
   "source": [
    "\n"
   ]
  },
  {
   "cell_type": "markdown",
   "id": "0faaf4df",
   "metadata": {},
   "source": [
    " "
   ]
  },
  {
   "cell_type": "markdown",
   "id": "74ea9a78",
   "metadata": {},
   "source": [
    "##  2. Profitability Metrics"
   ]
  },
  {
   "cell_type": "markdown",
   "id": "74104ba3",
   "metadata": {},
   "source": [
    "### *Profit Margin (%)*"
   ]
  },
  {
   "cell_type": "code",
   "execution_count": 6,
   "id": "f4071669",
   "metadata": {},
   "outputs": [],
   "source": [
    "# Formula for calculating Profit Margin\n",
    "profit_margin = (net_income / total_revenue) * 100"
   ]
  },
  {
   "cell_type": "code",
   "execution_count": 7,
   "id": "c7672726",
   "metadata": {},
   "outputs": [
    {
     "name": "stdout",
     "output_type": "stream",
     "text": [
      "Profit Margin: 20.0%\n",
      "\n",
      "Significance of Profit Margin:\n",
      "This metric shows how much profit the company keeps per unit of revenue after covering all costs. For example, a 20% profit margin means that for every dollar of revenue earned, 20 cents remains as profit after all costs have been covered.\n"
     ]
    }
   ],
   "source": [
    "# Displaying the output\n",
    "print(f\"Profit Margin: {profit_margin}%\") \n",
    "\n",
    "# Significance of metrics  \n",
    "print(\"\\nSignificance of Profit Margin:\")  \n",
    "print(\"This metric shows how much profit the company keeps per unit of revenue after covering all costs. For example, a 20% profit margin means that for every dollar of revenue earned, 20 cents remains as profit after all costs have been covered.\")  "
   ]
  },
  {
   "cell_type": "markdown",
   "id": "59e4229a",
   "metadata": {},
   "source": [
    "### *Operating Margin (%)*"
   ]
  },
  {
   "cell_type": "code",
   "execution_count": 8,
   "id": "725e33a0",
   "metadata": {},
   "outputs": [],
   "source": [
    "# Formula for calculating operating Margin\n",
    "operating_margin = (gross_profit / total_revenue) * 100 "
   ]
  },
  {
   "cell_type": "code",
   "execution_count": 9,
   "id": "c40c96e7",
   "metadata": {},
   "outputs": [
    {
     "name": "stdout",
     "output_type": "stream",
     "text": [
      "Operating Margin: 40.0%\n",
      "\n",
      "Significance of Operating Margin:\n",
      "This reflects the percentage of revenue left after covering operating expenses, including the cost of goods sold and other operational costs. For example, a 40% operating margin means the company retains 40 cents of every dollar in revenue after covering operational expenses. It shows how efficiently the company is managing its core business activities.\n"
     ]
    }
   ],
   "source": [
    "# Displaying the output\n",
    "print(f\"Operating Margin: {operating_margin}%\") \n",
    "\n",
    "# Significant \n",
    "print(\"\\nSignificance of Operating Margin:\")  \n",
    "print(\"This reflects the percentage of revenue left after covering operating expenses, including the cost of goods sold and other operational costs. For example, a 40% operating margin means the company retains 40 cents of every dollar in revenue after covering operational expenses. It shows how efficiently the company is managing its core business activities.\") "
   ]
  },
  {
   "cell_type": "markdown",
   "id": "17f0f474",
   "metadata": {},
   "source": [
    " "
   ]
  },
  {
   "cell_type": "markdown",
   "id": "d4f699ef",
   "metadata": {},
   "source": [
    " "
   ]
  },
  {
   "cell_type": "markdown",
   "id": "2733121d",
   "metadata": {},
   "source": [
    "## 3. Loan Repayment"
   ]
  },
  {
   "cell_type": "code",
   "execution_count": 10,
   "id": "61b5611f",
   "metadata": {},
   "outputs": [
    {
     "name": "stdout",
     "output_type": "stream",
     "text": [
      "Loan Amount = $20000\n",
      "Annual interest rate (in %) = 8\n",
      "Total number of payments (in years) = 5\n"
     ]
    }
   ],
   "source": [
    "# Creating variables to take user input on Loan details\n",
    "P = int(input(f\"Loan Amount = $\"))\n",
    "annual_interest_rate = float(input(f\"Annual interest rate (in %) = \"))/100\n",
    "number_of_years = int(input(f\"Total number of payments (in years) = \"))"
   ]
  },
  {
   "cell_type": "code",
   "execution_count": 11,
   "id": "1725dd87",
   "metadata": {},
   "outputs": [],
   "source": [
    "# Calculating monthly interest rate and total number of payments\n",
    "r = annual_interest_rate / 12\n",
    "n = number_of_years * 12"
   ]
  },
  {
   "cell_type": "code",
   "execution_count": 12,
   "id": "081cda18",
   "metadata": {},
   "outputs": [],
   "source": [
    "# Monthly repayment formula\n",
    "monthly_payment = (P * r * (1 + r)**n) / ((1 + r)**n - 1)"
   ]
  },
  {
   "cell_type": "code",
   "execution_count": 13,
   "id": "786bf014",
   "metadata": {},
   "outputs": [
    {
     "name": "stdout",
     "output_type": "stream",
     "text": [
      "The monthly repayment amount is $405.53\n"
     ]
    }
   ],
   "source": [
    "# Displaying the calculated monthly repayment\n",
    "print(f\"The monthly repayment amount is ${monthly_payment:.2f}\")"
   ]
  },
  {
   "cell_type": "markdown",
   "id": "967e0583",
   "metadata": {},
   "source": [
    " "
   ]
  },
  {
   "cell_type": "markdown",
   "id": "c95487ee",
   "metadata": {},
   "source": [
    " "
   ]
  },
  {
   "cell_type": "markdown",
   "id": "dacc030e",
   "metadata": {},
   "source": [
    "## 4. Break-Even Analysis"
   ]
  },
  {
   "cell_type": "code",
   "execution_count": 14,
   "id": "76f0d677",
   "metadata": {},
   "outputs": [
    {
     "name": "stdout",
     "output_type": "stream",
     "text": [
      "Selling Price per unit = $50\n",
      "Variable Cost per unit = $30\n",
      "Fixed Cost per month = $10000\n"
     ]
    }
   ],
   "source": [
    "# Creating variables to receive user input on the company's cost and price details\n",
    "selling_price_unit = float(input(f\"Selling Price per unit = $\"))\n",
    "variable_cost_per_unit = float(input(f\"Variable Cost per unit = $\"))\n",
    "fixed_cost_per_month = int(input(f\"Fixed Cost per month = $\"))"
   ]
  },
  {
   "cell_type": "code",
   "execution_count": 15,
   "id": "16f9c4ba",
   "metadata": {},
   "outputs": [
    {
     "name": "stdout",
     "output_type": "stream",
     "text": [
      "The break-even point is 500.0 units\n"
     ]
    }
   ],
   "source": [
    "# Formula for calculating break-even point\n",
    "break_even_point = fixed_cost_per_month/(selling_price_unit-variable_cost_per_unit)\n",
    "print(f\"The break-even point is {break_even_point} units\")"
   ]
  },
  {
   "cell_type": "markdown",
   "id": "dc383bc1",
   "metadata": {},
   "source": [
    "#### **Explanation of results  in terms of its operational goals**\n",
    "\n",
    "The break-even point of **500 units** sets the minimum sales needed to avoid losses. Key goals include:  \n",
    "- **Sales Target:** Sell at least 500 planners monthly to break even.  \n",
    "- **Profit Strategy:** Exceeding 500 sales generates profit, guiding plans for profitability.  \n",
    "- **Cost Management:** High break-even point may require cost reviews or pricing adjustments.  \n",
    "- **Financial Health:** Selling at least 500 planners to meeting or surpass the break-even point ensures sustainability as both costs and expenses are covered to prevent loss."
   ]
  },
  {
   "cell_type": "markdown",
   "id": "c82b54e9",
   "metadata": {},
   "source": [
    " "
   ]
  },
  {
   "cell_type": "markdown",
   "id": "eaf3289e",
   "metadata": {},
   "source": [
    " "
   ]
  },
  {
   "cell_type": "markdown",
   "id": "b6d9fb42",
   "metadata": {},
   "source": [
    "##  5. Investment Growth"
   ]
  },
  {
   "cell_type": "code",
   "execution_count": 16,
   "id": "6f55c173",
   "metadata": {},
   "outputs": [
    {
     "name": "stdout",
     "output_type": "stream",
     "text": [
      "Annual investment amount = $3000\n",
      "Annual return rate (decimal) = 7\n",
      "Number of years = 10\n"
     ]
    }
   ],
   "source": [
    "# Creating variable for investment parameters to receive user inputs\n",
    "P = int(input(f\"Annual investment amount = $\"))\n",
    "r = float(input(f\"Annual return rate (decimal) = \"))/100\n",
    "t = int(input(f\"Number of years = \"))"
   ]
  },
  {
   "cell_type": "code",
   "execution_count": 17,
   "id": "c99cf601",
   "metadata": {},
   "outputs": [],
   "source": [
    "# Future value formula\n",
    "future_value = P * ((1+r)**t-1)/r"
   ]
  },
  {
   "cell_type": "code",
   "execution_count": 18,
   "id": "96ba2e00",
   "metadata": {},
   "outputs": [
    {
     "name": "stdout",
     "output_type": "stream",
     "text": [
      "The future value of the investment after 10 years is: $41,449.34\n"
     ]
    }
   ],
   "source": [
    "# Present the value\n",
    "print(f\"The future value of the investment after {t} years is: ${future_value:,.2f}\")"
   ]
  },
  {
   "cell_type": "markdown",
   "id": "171cc17e",
   "metadata": {},
   "source": [
    "#### **Alignment with Financial Goals:**\n",
    "\n",
    "It indicates the total value of an investment after a specified period.   \n",
    "Over 10 years, the company plans to invest \\$3,000 annually, amounting to a total contribution of 30,000 dollars. With a 7\\% annual return, this investment will grow to approximately **$41449.34**, showing the significant impact of compound interest. \n",
    "This aligns with the company’s financial goals by generating additional funds that can be used to support future projects, expand operations, or improve financial stability. The investment not only preserves the principal amount but also provides a return that can help achieve long-term business objectives."
   ]
  },
  {
   "cell_type": "markdown",
   "id": "21b61660",
   "metadata": {},
   "source": [
    " "
   ]
  }
 ],
 "metadata": {
  "kernelspec": {
   "display_name": "Python 3 (ipykernel)",
   "language": "python",
   "name": "python3"
  },
  "language_info": {
   "codemirror_mode": {
    "name": "ipython",
    "version": 3
   },
   "file_extension": ".py",
   "mimetype": "text/x-python",
   "name": "python",
   "nbconvert_exporter": "python",
   "pygments_lexer": "ipython3",
   "version": "3.11.4"
  }
 },
 "nbformat": 4,
 "nbformat_minor": 5
}
